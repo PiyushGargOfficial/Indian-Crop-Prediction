{
  "nbformat": 4,
  "nbformat_minor": 0,
  "metadata": {
    "colab": {
      "name": "Untitled4.ipynb",
      "provenance": [],
      "collapsed_sections": []
    },
    "kernelspec": {
      "name": "python3",
      "display_name": "Python 3"
    }
  },
  "cells": [
    {
      "cell_type": "code",
      "metadata": {
        "id": "9Ry1EgP_qOfP",
        "colab_type": "code",
        "colab": {}
      },
      "source": [
        "\n",
        "import pandas as pd\n",
        "import sys;\n",
        "import numpy as np \n",
        "import math"
      ],
      "execution_count": 0,
      "outputs": []
    },
    {
      "cell_type": "code",
      "metadata": {
        "id": "FqYxThECuQAf",
        "colab_type": "code",
        "colab": {}
      },
      "source": [
        "data = pd.read_csv('final.csv')"
      ],
      "execution_count": 0,
      "outputs": []
    },
    {
      "cell_type": "code",
      "metadata": {
        "id": "r2kPt63iuUlp",
        "colab_type": "code",
        "colab": {}
      },
      "source": [
        "from sklearn.preprocessing import LabelEncoder"
      ],
      "execution_count": 0,
      "outputs": []
    },
    {
      "cell_type": "code",
      "metadata": {
        "id": "chPNLZyXubux",
        "colab_type": "code",
        "colab": {}
      },
      "source": [
        "enc = LabelEncoder()"
      ],
      "execution_count": 0,
      "outputs": []
    },
    {
      "cell_type": "code",
      "metadata": {
        "id": "HgEzDZECuevY",
        "colab_type": "code",
        "colab": {
          "base_uri": "https://localhost:8080/",
          "height": 131
        },
        "outputId": "805c8ccd-80ab-4a2c-e31a-166e9fba1bdc"
      },
      "source": [
        "#data['Annual_Rain'][data['Annual_Rain'] == 0] = 0.01"
      ],
      "execution_count": 62,
      "outputs": [
        {
          "output_type": "stream",
          "text": [
            "/usr/local/lib/python3.6/dist-packages/ipykernel_launcher.py:1: SettingWithCopyWarning: \n",
            "A value is trying to be set on a copy of a slice from a DataFrame\n",
            "\n",
            "See the caveats in the documentation: http://pandas.pydata.org/pandas-docs/stable/indexing.html#indexing-view-versus-copy\n",
            "  \"\"\"Entry point for launching an IPython kernel.\n"
          ],
          "name": "stderr"
        }
      ]
    },
    {
      "cell_type": "code",
      "metadata": {
        "id": "9A24bhE2ugGr",
        "colab_type": "code",
        "colab": {}
      },
      "source": [
        "for i in data.columns:\n",
        "  if isinstance(data[i][0],str):\n",
        "    data[i] = enc.fit_transform(data[i])"
      ],
      "execution_count": 0,
      "outputs": []
    },
    {
      "cell_type": "code",
      "metadata": {
        "id": "InYFhvduvcWG",
        "colab_type": "code",
        "colab": {}
      },
      "source": [
        "#enc.inverse_transform([data['Crop'][0]])"
      ],
      "execution_count": 0,
      "outputs": []
    },
    {
      "cell_type": "code",
      "metadata": {
        "id": "CtQtNzn0wD6H",
        "colab_type": "code",
        "colab": {
          "base_uri": "https://localhost:8080/",
          "height": 36
        },
        "outputId": "09bbd60a-1c41-46b2-89c1-feb2e23fd303"
      },
      "source": [
        "data['Crop'][0]"
      ],
      "execution_count": 65,
      "outputs": [
        {
          "output_type": "execute_result",
          "data": {
            "text/plain": [
              "77"
            ]
          },
          "metadata": {
            "tags": []
          },
          "execution_count": 65
        }
      ]
    },
    {
      "cell_type": "code",
      "metadata": {
        "id": "as_tZ91wyDlz",
        "colab_type": "code",
        "colab": {}
      },
      "source": [
        "def euclideanDistance(instance1, instance2):\n",
        "    instance1 = float(instance1)\n",
        "    instance2 = float(instance2)\n",
        "    distance = pow((instance1 - instance2), 2)\n",
        "    return math.sqrt(distance)"
      ],
      "execution_count": 0,
      "outputs": []
    },
    {
      "cell_type": "code",
      "metadata": {
        "id": "jl1rAgtGzkkg",
        "colab_type": "code",
        "colab": {
          "base_uri": "https://localhost:8080/",
          "height": 206
        },
        "outputId": "6cf5edde-ac44-424a-fa99-c0e0754e8c53"
      },
      "source": [
        "data.head()"
      ],
      "execution_count": 67,
      "outputs": [
        {
          "output_type": "execute_result",
          "data": {
            "text/html": [
              "<div>\n",
              "<style scoped>\n",
              "    .dataframe tbody tr th:only-of-type {\n",
              "        vertical-align: middle;\n",
              "    }\n",
              "\n",
              "    .dataframe tbody tr th {\n",
              "        vertical-align: top;\n",
              "    }\n",
              "\n",
              "    .dataframe thead th {\n",
              "        text-align: right;\n",
              "    }\n",
              "</style>\n",
              "<table border=\"1\" class=\"dataframe\">\n",
              "  <thead>\n",
              "    <tr style=\"text-align: right;\">\n",
              "      <th></th>\n",
              "      <th>STATES</th>\n",
              "      <th>District_Name</th>\n",
              "      <th>Season</th>\n",
              "      <th>Crop</th>\n",
              "      <th>Annual_Rain</th>\n",
              "      <th>Avg_Temperature</th>\n",
              "    </tr>\n",
              "  </thead>\n",
              "  <tbody>\n",
              "    <tr>\n",
              "      <th>0</th>\n",
              "      <td>0</td>\n",
              "      <td>392</td>\n",
              "      <td>1</td>\n",
              "      <td>77</td>\n",
              "      <td>931.8</td>\n",
              "      <td>24.6</td>\n",
              "    </tr>\n",
              "    <tr>\n",
              "      <th>1</th>\n",
              "      <td>0</td>\n",
              "      <td>505</td>\n",
              "      <td>1</td>\n",
              "      <td>77</td>\n",
              "      <td>931.8</td>\n",
              "      <td>24.6</td>\n",
              "    </tr>\n",
              "    <tr>\n",
              "      <th>2</th>\n",
              "      <td>0</td>\n",
              "      <td>392</td>\n",
              "      <td>4</td>\n",
              "      <td>1</td>\n",
              "      <td>931.8</td>\n",
              "      <td>24.6</td>\n",
              "    </tr>\n",
              "    <tr>\n",
              "      <th>3</th>\n",
              "      <td>0</td>\n",
              "      <td>505</td>\n",
              "      <td>4</td>\n",
              "      <td>1</td>\n",
              "      <td>931.8</td>\n",
              "      <td>24.6</td>\n",
              "    </tr>\n",
              "    <tr>\n",
              "      <th>4</th>\n",
              "      <td>0</td>\n",
              "      <td>392</td>\n",
              "      <td>4</td>\n",
              "      <td>5</td>\n",
              "      <td>931.8</td>\n",
              "      <td>24.6</td>\n",
              "    </tr>\n",
              "  </tbody>\n",
              "</table>\n",
              "</div>"
            ],
            "text/plain": [
              "   STATES  District_Name  Season  Crop  Annual_Rain  Avg_Temperature\n",
              "0       0            392       1    77        931.8             24.6\n",
              "1       0            505       1    77        931.8             24.6\n",
              "2       0            392       4     1        931.8             24.6\n",
              "3       0            505       4     1        931.8             24.6\n",
              "4       0            392       4     5        931.8             24.6"
            ]
          },
          "metadata": {
            "tags": []
          },
          "execution_count": 67
        }
      ]
    },
    {
      "cell_type": "code",
      "metadata": {
        "id": "hRizRLHXyyvv",
        "colab_type": "code",
        "colab": {}
      },
      "source": [
        "\n",
        "def Sort(sub_li): \n",
        "    l = len(sub_li) \n",
        "    for i in range(0, l): \n",
        "        for j in range(0, l-i-1): \n",
        "            if (sub_li[j][1] > sub_li[j + 1][1]): \n",
        "                tempo = sub_li[j] \n",
        "                sub_li[j]= sub_li[j + 1] \n",
        "                sub_li[j + 1]= tempo \n",
        "    return sub_li "
      ],
      "execution_count": 0,
      "outputs": []
    },
    {
      "cell_type": "code",
      "metadata": {
        "id": "wxwdpoRWy2Mb",
        "colab_type": "code",
        "colab": {}
      },
      "source": [
        "def knn(district,ses,rain,temp):\n",
        "    distance = []\n",
        "    for i in range(len(data.index)):\n",
        "        dis = euclideanDistance(data.District_Name[i],district) + euclideanDistance(data.Season[i],ses) + euclideanDistance(data.Annual_Rain[i],rain) + euclideanDistance(data.Avg_Temperature[i],temp)\n",
        "           \n",
        "           # euclideanDistance(data.Crop[i],crp)  +\n",
        "        distance.append([data.Crop[i],dis])\n",
        "    return distance"
      ],
      "execution_count": 0,
      "outputs": []
    },
    {
      "cell_type": "code",
      "metadata": {
        "id": "ISa47DHgy6bO",
        "colab_type": "code",
        "colab": {}
      },
      "source": [
        "l = knn(39,1,931.8,24.6)\n",
        "l = Sort(l)"
      ],
      "execution_count": 0,
      "outputs": []
    },
    {
      "cell_type": "code",
      "metadata": {
        "id": "unqI1uWk2wj-",
        "colab_type": "code",
        "colab": {
          "base_uri": "https://localhost:8080/",
          "height": 36
        },
        "outputId": "baa7e5b3-c941-49f8-ec5c-d994ab432cd0"
      },
      "source": [
        "l[:5]"
      ],
      "execution_count": 84,
      "outputs": [
        {
          "output_type": "execute_result",
          "data": {
            "text/plain": [
              "[[2, 18.0], [4, 18.0], [19, 18.0], [24, 18.0], [27, 18.0]]"
            ]
          },
          "metadata": {
            "tags": []
          },
          "execution_count": 84
        }
      ]
    },
    {
      "cell_type": "code",
      "metadata": {
        "id": "yPcRw-Mg74vP",
        "colab_type": "code",
        "colab": {}
      },
      "source": [
        ""
      ],
      "execution_count": 0,
      "outputs": []
    }
  ]
}